{
  "nbformat": 4,
  "nbformat_minor": 0,
  "metadata": {
    "colab": {
      "name": "HE_flower classification",
      "version": "0.3.2",
      "provenance": [],
      "include_colab_link": true
    },
    "kernelspec": {
      "name": "python3",
      "display_name": "Python 3"
    },
    "accelerator": "GPU"
  },
  "cells": [
    {
      "cell_type": "markdown",
      "metadata": {
        "id": "view-in-github",
        "colab_type": "text"
      },
      "source": [
        "<a href=\"https://colab.research.google.com/github/mmrbulbul/TensorFlow/blob/master/HE_flower_classification.ipynb\" target=\"_parent\"><img src=\"https://colab.research.google.com/assets/colab-badge.svg\" alt=\"Open In Colab\"/></a>"
      ]
    },
    {
      "cell_type": "code",
      "metadata": {
        "id": "9Dp5J3HAU_AM",
        "colab_type": "code",
        "outputId": "977f1663-08e8-49aa-8586-553e64d56137",
        "colab": {
          "base_uri": "https://localhost:8080/",
          "height": 222
        }
      },
      "source": [
        "!wget https://he-public-data.s3-ap-southeast-1.amazonaws.com/HE_Challenge_data.zip"
      ],
      "execution_count": 1,
      "outputs": [
        {
          "output_type": "stream",
          "text": [
            "--2019-08-06 18:13:25--  https://he-public-data.s3-ap-southeast-1.amazonaws.com/HE_Challenge_data.zip\n",
            "Resolving he-public-data.s3-ap-southeast-1.amazonaws.com (he-public-data.s3-ap-southeast-1.amazonaws.com)... 52.219.36.159\n",
            "Connecting to he-public-data.s3-ap-southeast-1.amazonaws.com (he-public-data.s3-ap-southeast-1.amazonaws.com)|52.219.36.159|:443... connected.\n",
            "HTTP request sent, awaiting response... 200 OK\n",
            "Length: 948965311 (905M) [application/zip]\n",
            "Saving to: ‘HE_Challenge_data.zip.2’\n",
            "\n",
            "HE_Challenge_data.z 100%[===================>] 905.00M  19.9MB/s    in 48s     \n",
            "\n",
            "2019-08-06 18:14:13 (19.0 MB/s) - ‘HE_Challenge_data.zip.2’ saved [948965311/948965311]\n",
            "\n"
          ],
          "name": "stdout"
        }
      ]
    },
    {
      "cell_type": "code",
      "metadata": {
        "id": "fYlSGGIIVEVQ",
        "colab_type": "code",
        "colab": {}
      },
      "source": [
        ""
      ],
      "execution_count": 0,
      "outputs": []
    },
    {
      "cell_type": "code",
      "metadata": {
        "id": "amjaQejwVi4a",
        "colab_type": "code",
        "colab": {}
      },
      "source": [
        "# !ls 'HE_Challenge_data/data/train/'"
      ],
      "execution_count": 0,
      "outputs": []
    },
    {
      "cell_type": "code",
      "metadata": {
        "id": "esEuCBl_W1v7",
        "colab_type": "code",
        "colab": {}
      },
      "source": [
        "dir = 'HE_Challenge_data.zip'\n",
        "import zipfile\n",
        "zip_ = zipfile.ZipFile(dir,'r')\n",
        "zip_.extractall('HE_Challenge_data')\n",
        "zip_.close()"
      ],
      "execution_count": 0,
      "outputs": []
    },
    {
      "cell_type": "code",
      "metadata": {
        "id": "VJK1jVACXktM",
        "colab_type": "code",
        "colab": {}
      },
      "source": [
        "train_path = 'HE_Challenge_data/data/train/'\n",
        "test_path = 'HE_Challenge_data/data/test/'"
      ],
      "execution_count": 0,
      "outputs": []
    },
    {
      "cell_type": "code",
      "metadata": {
        "id": "SR4M6rRPZCvX",
        "colab_type": "code",
        "colab": {}
      },
      "source": [
        "import matplotlib.pyplot as plt\n",
        "import matplotlib.image as mpimg\n",
        "import numpy as np\n",
        "import cv2 \n",
        "import pandas as pd"
      ],
      "execution_count": 0,
      "outputs": []
    },
    {
      "cell_type": "code",
      "metadata": {
        "id": "6GE07tn3ZG7q",
        "colab_type": "code",
        "colab": {}
      },
      "source": [
        "X_tr =[]\n",
        "Y_tr =[]"
      ],
      "execution_count": 0,
      "outputs": []
    },
    {
      "cell_type": "code",
      "metadata": {
        "id": "SxH5v8EqZIie",
        "colab_type": "code",
        "colab": {}
      },
      "source": [
        "label = pd.read_csv('HE_Challenge_data/data/train.csv')\n",
        "import os\n",
        "for file in os.listdir(train_path):\n",
        "#   print(file)\n",
        "  X_tr.append(cv2.imread(train_path+file))\n",
        "#   X_tr.append(cv2.imread(file))\n",
        "  image_id = file.split('.')\n",
        "  try:\n",
        "    image_id = int(image_id[0])\n",
        "    cat = label[label['image_id']==image_id]\n",
        "    lbl = cat.values[0][1]\n",
        "    Y_tr.append(lbl)\n",
        "  except:\n",
        "    pass\n",
        "#   print(a)\n",
        " "
      ],
      "execution_count": 0,
      "outputs": []
    },
    {
      "cell_type": "code",
      "metadata": {
        "id": "5Bf1GqSqZrV5",
        "colab_type": "code",
        "colab": {
          "base_uri": "https://localhost:8080/",
          "height": 34
        },
        "outputId": "46d0e070-029a-47ee-a119-6e27c0b107ab"
      },
      "source": [
        "len(Y_tr)\n"
      ],
      "execution_count": 24,
      "outputs": [
        {
          "output_type": "execute_result",
          "data": {
            "text/plain": [
              "1323"
            ]
          },
          "metadata": {
            "tags": []
          },
          "execution_count": 24
        }
      ]
    },
    {
      "cell_type": "code",
      "metadata": {
        "id": "sJlb4Bvwqh9r",
        "colab_type": "code",
        "colab": {
          "base_uri": "https://localhost:8080/",
          "height": 262
        },
        "outputId": "c7d92ce1-e518-4ee5-e0e7-c7e3391bb116"
      },
      "source": [
        "for file in os.listdir(train_path):\n",
        "  print(file)\n",
        "  print(cv2.imread(file))\n",
        "#   plt.imshow(m)\n",
        "  print(type(m))\n",
        "  img = mpimg.imread(file)\n",
        "  plt.imshow(img)\n",
        "  break"
      ],
      "execution_count": 9,
      "outputs": [
        {
          "output_type": "stream",
          "text": [
            "5005.jpg\n",
            "None\n"
          ],
          "name": "stdout"
        },
        {
          "output_type": "error",
          "ename": "NameError",
          "evalue": "ignored",
          "traceback": [
            "\u001b[0;31m---------------------------------------------------------------------------\u001b[0m",
            "\u001b[0;31mNameError\u001b[0m                                 Traceback (most recent call last)",
            "\u001b[0;32m<ipython-input-9-1022c348c6ce>\u001b[0m in \u001b[0;36m<module>\u001b[0;34m()\u001b[0m\n\u001b[1;32m      3\u001b[0m   \u001b[0mprint\u001b[0m\u001b[0;34m(\u001b[0m\u001b[0mcv2\u001b[0m\u001b[0;34m.\u001b[0m\u001b[0mimread\u001b[0m\u001b[0;34m(\u001b[0m\u001b[0mfile\u001b[0m\u001b[0;34m)\u001b[0m\u001b[0;34m)\u001b[0m\u001b[0;34m\u001b[0m\u001b[0;34m\u001b[0m\u001b[0m\n\u001b[1;32m      4\u001b[0m \u001b[0;31m#   plt.imshow(m)\u001b[0m\u001b[0;34m\u001b[0m\u001b[0;34m\u001b[0m\u001b[0;34m\u001b[0m\u001b[0m\n\u001b[0;32m----> 5\u001b[0;31m   \u001b[0mprint\u001b[0m\u001b[0;34m(\u001b[0m\u001b[0mtype\u001b[0m\u001b[0;34m(\u001b[0m\u001b[0mm\u001b[0m\u001b[0;34m)\u001b[0m\u001b[0;34m)\u001b[0m\u001b[0;34m\u001b[0m\u001b[0;34m\u001b[0m\u001b[0m\n\u001b[0m\u001b[1;32m      6\u001b[0m   \u001b[0mimg\u001b[0m \u001b[0;34m=\u001b[0m \u001b[0mmpimg\u001b[0m\u001b[0;34m.\u001b[0m\u001b[0mimread\u001b[0m\u001b[0;34m(\u001b[0m\u001b[0mfile\u001b[0m\u001b[0;34m)\u001b[0m\u001b[0;34m\u001b[0m\u001b[0;34m\u001b[0m\u001b[0m\n\u001b[1;32m      7\u001b[0m   \u001b[0mplt\u001b[0m\u001b[0;34m.\u001b[0m\u001b[0mimshow\u001b[0m\u001b[0;34m(\u001b[0m\u001b[0mimg\u001b[0m\u001b[0;34m)\u001b[0m\u001b[0;34m\u001b[0m\u001b[0;34m\u001b[0m\u001b[0m\n",
            "\u001b[0;31mNameError\u001b[0m: name 'm' is not defined"
          ]
        }
      ]
    },
    {
      "cell_type": "code",
      "metadata": {
        "id": "alZWa1JOCVcU",
        "colab_type": "code",
        "colab": {}
      },
      "source": [
        ""
      ],
      "execution_count": 0,
      "outputs": []
    }
  ]
}